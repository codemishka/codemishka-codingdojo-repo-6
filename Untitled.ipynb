{
 "cells": [
  {
   "cell_type": "code",
   "execution_count": 14,
   "id": "824e99e2",
   "metadata": {},
   "outputs": [],
   "source": [
    "import pandas as pd\n",
    "import numpy as np\n",
    "import matplotlib.pyplot as plt\n",
    "import seaborn as sns\n",
    "import scipy.stats as stats\n",
    "from scipy.stats import ttest_ind\n",
    "from scipy.stats import chi2_contingency\n",
    "from scipy.stats import f_oneway"
   ]
  },
  {
   "cell_type": "code",
   "execution_count": 8,
   "id": "e06fcdb6",
   "metadata": {},
   "outputs": [],
   "source": [
    "df = pd.read_csv('https://docs.google.com/spreadsheets/d/e/2PACX-1vQBN8DPW2rdiRrY34eEM53HAzakNGSRrw4ogI-j8HyCUrbqTB_z4CeIn2IvjLF-w_6sOe5pIlypJGAA/pub?output=csv')"
   ]
  },
  {
   "cell_type": "code",
   "execution_count": 9,
   "id": "7116a20a",
   "metadata": {},
   "outputs": [
    {
     "data": {
      "text/html": [
       "<div>\n",
       "<style scoped>\n",
       "    .dataframe tbody tr th:only-of-type {\n",
       "        vertical-align: middle;\n",
       "    }\n",
       "\n",
       "    .dataframe tbody tr th {\n",
       "        vertical-align: top;\n",
       "    }\n",
       "\n",
       "    .dataframe thead th {\n",
       "        text-align: right;\n",
       "    }\n",
       "</style>\n",
       "<table border=\"1\" class=\"dataframe\">\n",
       "  <thead>\n",
       "    <tr style=\"text-align: right;\">\n",
       "      <th></th>\n",
       "      <th>age</th>\n",
       "      <th>sex</th>\n",
       "      <th>bmi</th>\n",
       "      <th>children</th>\n",
       "      <th>smoker</th>\n",
       "      <th>region</th>\n",
       "      <th>charges</th>\n",
       "    </tr>\n",
       "  </thead>\n",
       "  <tbody>\n",
       "    <tr>\n",
       "      <th>0</th>\n",
       "      <td>19</td>\n",
       "      <td>female</td>\n",
       "      <td>27.900</td>\n",
       "      <td>0</td>\n",
       "      <td>yes</td>\n",
       "      <td>southwest</td>\n",
       "      <td>16884.92400</td>\n",
       "    </tr>\n",
       "    <tr>\n",
       "      <th>1</th>\n",
       "      <td>18</td>\n",
       "      <td>male</td>\n",
       "      <td>33.770</td>\n",
       "      <td>1</td>\n",
       "      <td>no</td>\n",
       "      <td>southeast</td>\n",
       "      <td>1725.55230</td>\n",
       "    </tr>\n",
       "    <tr>\n",
       "      <th>2</th>\n",
       "      <td>28</td>\n",
       "      <td>male</td>\n",
       "      <td>33.000</td>\n",
       "      <td>3</td>\n",
       "      <td>no</td>\n",
       "      <td>southeast</td>\n",
       "      <td>4449.46200</td>\n",
       "    </tr>\n",
       "    <tr>\n",
       "      <th>3</th>\n",
       "      <td>33</td>\n",
       "      <td>male</td>\n",
       "      <td>22.705</td>\n",
       "      <td>0</td>\n",
       "      <td>no</td>\n",
       "      <td>northwest</td>\n",
       "      <td>21984.47061</td>\n",
       "    </tr>\n",
       "    <tr>\n",
       "      <th>4</th>\n",
       "      <td>32</td>\n",
       "      <td>male</td>\n",
       "      <td>28.880</td>\n",
       "      <td>0</td>\n",
       "      <td>no</td>\n",
       "      <td>northwest</td>\n",
       "      <td>3866.85520</td>\n",
       "    </tr>\n",
       "  </tbody>\n",
       "</table>\n",
       "</div>"
      ],
      "text/plain": [
       "   age     sex     bmi  children smoker     region      charges\n",
       "0   19  female  27.900         0    yes  southwest  16884.92400\n",
       "1   18    male  33.770         1     no  southeast   1725.55230\n",
       "2   28    male  33.000         3     no  southeast   4449.46200\n",
       "3   33    male  22.705         0     no  northwest  21984.47061\n",
       "4   32    male  28.880         0     no  northwest   3866.85520"
      ]
     },
     "execution_count": 9,
     "metadata": {},
     "output_type": "execute_result"
    }
   ],
   "source": [
    "df.head()"
   ]
  },
  {
   "cell_type": "code",
   "execution_count": 10,
   "id": "e1d4497f",
   "metadata": {},
   "outputs": [
    {
     "name": "stdout",
     "output_type": "stream",
     "text": [
      "Reject the null hypothesis. There is evidence that smokers have higher insurance charges than non-smokers.\n"
     ]
    }
   ],
   "source": [
    "\n",
    "\n",
    "# Q1: Do smokers have higher insurance charges than non-smokers?\n",
    "smokers_charges = df[df['smoker'] == 'yes']['charges']\n",
    "non_smokers_charges = df[df['smoker'] == 'no']['charges']\n",
    "\n",
    "# Define null and alternative hypotheses\n",
    "# H0: The means of charges for smokers and non-smokers are equal\n",
    "# H1: The mean charge for smokers is greater than the mean charge for non-smokers\n",
    "t_stat, p_value = ttest_ind(smokers_charges, non_smokers_charges, alternative='greater')\n",
    "\n",
    "# Set your significance level (e.g., 0.05)\n",
    "alpha = 0.05\n",
    "\n",
    "# Compare p-value to the significance level\n",
    "if p_value < alpha:\n",
    "    print(\"Reject the null hypothesis. There is evidence that smokers have higher insurance charges than non-smokers.\")\n",
    "else:\n",
    "    print(\"Fail to reject the null hypothesis. There is not enough evidence to conclude that smokers have higher insurance charges.\")\n"
   ]
  },
  {
   "cell_type": "code",
   "execution_count": 12,
   "id": "f56f3695",
   "metadata": {},
   "outputs": [
    {
     "name": "stdout",
     "output_type": "stream",
     "text": [
      "Reject the null hypothesis. There is evidence that men are more likely to smoke than women.\n"
     ]
    }
   ],
   "source": [
    "\n",
    "# Q2: Are men more likely to smoke than women?\n",
    "contingency_table = pd.crosstab(df['sex'], df['smoker'])\n",
    "\n",
    "# Define null and alternative hypotheses\n",
    "# H0: There is no association between gender and smoking status\n",
    "# H1: There is an association between gender and smoking status\n",
    "chi2_stat, p_value_chi2, _, _ = chi2_contingency(contingency_table)\n",
    "\n",
    "# Compare p-value to the significance level\n",
    "if p_value_chi2 < alpha:\n",
    "    print(\"Reject the null hypothesis. There is evidence that men are more likely to smoke than women.\")\n",
    "else:\n",
    "    print(\"Fail to reject the null hypothesis. There is not enough evidence to conclude a significant association between gender and smoking status.\")"
   ]
  },
  {
   "cell_type": "code",
   "execution_count": 13,
   "id": "f503dd3e",
   "metadata": {},
   "outputs": [
    {
     "name": "stdout",
     "output_type": "stream",
     "text": [
      "Reject the null hypothesis. There is evidence that different regions have different charges, on average.\n"
     ]
    }
   ],
   "source": [
    "\n",
    "\n",
    "# Q3: Do different regions have different charges, on average?\n",
    "regions = df['region'].unique()\n",
    "region_groups = [df[df['region'] == region]['charges'] for region in regions]\n",
    "\n",
    "# Define null and alternative hypotheses\n",
    "# H0: There is no significant difference in the means of charges across different regions\n",
    "# H1: There is a significant difference in the means of charges across different regions\n",
    "f_stat, p_value_anova = f_oneway(*region_groups)\n",
    "\n",
    "# Compare p-value to the significance level\n",
    "if p_value_anova < alpha:\n",
    "    print(\"Reject the null hypothesis. There is evidence that different regions have different charges, on average.\")\n",
    "else:\n",
    "    print(\"Fail to reject the null hypothesis. There is not enough evidence to conclude a significant difference in charges across different regions.\")"
   ]
  },
  {
   "cell_type": "code",
   "execution_count": null,
   "id": "68f09ef6",
   "metadata": {},
   "outputs": [],
   "source": []
  }
 ],
 "metadata": {
  "kernelspec": {
   "display_name": "Python (dojo-env)",
   "language": "python",
   "name": "dojo-env"
  },
  "language_info": {
   "codemirror_mode": {
    "name": "ipython",
    "version": 3
   },
   "file_extension": ".py",
   "mimetype": "text/x-python",
   "name": "python",
   "nbconvert_exporter": "python",
   "pygments_lexer": "ipython3",
   "version": "3.10.13"
  }
 },
 "nbformat": 4,
 "nbformat_minor": 5
}
